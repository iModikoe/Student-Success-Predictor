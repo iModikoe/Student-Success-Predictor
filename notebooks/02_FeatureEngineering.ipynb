{
  "cells": [
    {
      "cell_type": "markdown",
      "metadata": {},
      "source": "# 02 – Feature Engineering"
    },
    {
      "cell_type": "code",
      "execution_count": null,
      "metadata": {},
      "outputs": [],
      "source": "import pandas as pd\nimport numpy as np\nfrom pathlib import Path\n\nDATA_PATH = Path('../data/student-mat.csv')\ndf = pd.read_csv(DATA_PATH)\n\n# Example engineered feature\ndf['study_efficiency'] = df['study_time'] / (df['absences'].replace(0, 1))\ndf['study_efficiency'] = df['study_efficiency'].clip(upper=df['study_efficiency'].quantile(0.99))\n\n# Example grade band (optional multi-class)\nbins = [-1, 9, 13, 16, 20]\nlabels = ['F', 'C', 'B', 'A']\ndf['grade_band'] = pd.cut(df['final_grade'], bins=bins, labels=labels)\n\ndf.head()\n"
    },
    {
      "cell_type": "code",
      "execution_count": null,
      "metadata": {},
      "outputs": [],
      "source": "df[['study_time','absences','study_efficiency','final_grade','passed']].describe()\n"
    },
    {
      "cell_type": "code",
      "execution_count": null,
      "metadata": {},
      "outputs": [],
      "source": "# Save engineered dataset if you want to use it later\ndf.to_csv('../data/engineered_students.csv', index=False)\nprint('Saved to ../data/engineered_students.csv')\n"
    }
  ],
  "metadata": {
    "kernelspec": {
      "display_name": "Python 3",
      "language": "python",
      "name": "python3"
    },
    "language_info": {
      "name": "python",
      "version": "3.x"
    }
  },
  "nbformat": 4,
  "nbformat_minor": 5
}