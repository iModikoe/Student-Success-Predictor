{
  "cells": [
    {
      "cell_type": "markdown",
      "metadata": {},
      "source": "# 01 – Exploratory Data Analysis"
    },
    {
      "cell_type": "code",
      "execution_count": null,
      "metadata": {},
      "outputs": [],
      "source": "import pandas as pd\nimport numpy as np\nimport matplotlib.pyplot as plt\nfrom pathlib import Path\n\nDATA_PATH = Path('../data/student-mat.csv')  # change to your CSV if needed\ndf = pd.read_csv(DATA_PATH)\ndf.head()\n"
    },
    {
      "cell_type": "code",
      "execution_count": null,
      "metadata": {},
      "outputs": [],
      "source": "df.info()\n"
    },
    {
      "cell_type": "code",
      "execution_count": null,
      "metadata": {},
      "outputs": [],
      "source": "df.describe(include='all').T\n"
    },
    {
      "cell_type": "code",
      "execution_count": null,
      "metadata": {},
      "outputs": [],
      "source": "# Missing values check\ndf.isna().sum().sort_values(ascending=False)\n"
    },
    {
      "cell_type": "markdown",
      "metadata": {},
      "source": "## Distributions"
    },
    {
      "cell_type": "code",
      "execution_count": null,
      "metadata": {},
      "outputs": [],
      "source": "numeric_cols = df.select_dtypes(include=np.number).columns.tolist()\nfor col in numeric_cols:\n    plt.figure()\n    df[col].hist(bins=20)\n    plt.title(f\"Distribution of {col}\")\n    plt.xlabel(col)\n    plt.ylabel(\"Count\")\n    plt.show()\n"
    },
    {
      "cell_type": "markdown",
      "metadata": {},
      "source": "## Correlation heatmap (numeric)"
    },
    {
      "cell_type": "code",
      "execution_count": null,
      "metadata": {},
      "outputs": [],
      "source": "import matplotlib.pyplot as plt\n\ncorr = df.select_dtypes(include=np.number).corr()\nplt.figure(figsize=(8,6))\nim = plt.imshow(corr, interpolation='nearest')\nplt.colorbar(im, fraction=0.046, pad=0.04)\nplt.xticks(range(len(corr.columns)), corr.columns, rotation=90)\nplt.yticks(range(len(corr.columns)), corr.columns)\nplt.title(\"Correlation heatmap\")\nplt.tight_layout()\nplt.show()\n"
    }
  ],
  "metadata": {
    "kernelspec": {
      "display_name": "Python 3",
      "language": "python",
      "name": "python3"
    },
    "language_info": {
      "name": "python",
      "version": "3.x"
    }
  },
  "nbformat": 4,
  "nbformat_minor": 5
}